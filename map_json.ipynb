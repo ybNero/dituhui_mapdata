{
 "cells": [
  {
   "cell_type": "markdown",
   "metadata": {},
   "source": [
    "## 项目名称：地图慧修车点位数据爬取\n",
    "@ybNero<br>\n",
    "@2018-10-10"
   ]
  },
  {
   "cell_type": "code",
   "execution_count": 1,
   "metadata": {
    "scrolled": true
   },
   "outputs": [
    {
     "data": {
      "text/plain": [
       "{'id': 39271430,\n",
       " 'title': '7/23辆',\n",
       " 'bdxy': '104.104061,30.668866',\n",
       " 'x': '104.104061',\n",
       " 'y': '30.668866',\n",
       " 'icon': {'id': 10009,\n",
       "  'url': 'http://a.dituhui.com/images/marker/icon/default/761458fbc7b4142e1ae92be936f822a3.png',\n",
       "  'height': 30,\n",
       "  'width': 20},\n",
       " 'icon_info': {'id': 10009,\n",
       "  'url': 'http://a.dituhui.com/images/marker/icon/default/761458fbc7b4142e1ae92be936f822a3.png',\n",
       "  'height': 30,\n",
       "  'width': 20},\n",
       " 'img': [{'id': 1407206,\n",
       "   'url': 'http://a.dituhui.com/images/marker/pic/2018/11/15/d84f2bc1ce2694313cba61b5b0f6eebd.jpg'}],\n",
       " 'creator': 'ྉ信ྉ仰ྉ',\n",
       " 'creator_id': 870964,\n",
       " 'created_at': '2018-11-15',\n",
       " 'zans': 0,\n",
       " 'rating': 0,\n",
       " 'attributes': [{'id': 81938487,\n",
       "   'marker_id': 39271430,\n",
       "   'key': '描述',\n",
       "   'value': '车胎10/脚架11/车锁4/后刹车线1/；王岳川17628357304'}]}"
      ]
     },
     "execution_count": 1,
     "metadata": {},
     "output_type": "execute_result"
    }
   ],
   "source": [
    "import json\n",
    "import requests\n",
    "\n",
    "\n",
    "url = \"http://c.dituhui.com/maps/1909889/get_markers?need_img=true&need_creator=true\"\n",
    "headers = {'User-Agent' : 'Mozilla/5.0 (Windows; U; Windows NT 6.1; en-US; rv:1.9.1.6) Gecko/20091201 Firefox/3.5.6'} \n",
    "\n",
    "r = requests.get(url,headers=headers)\n",
    "jsonobj = json.loads(r.text)\n",
    "jsonobj[0]\n",
    "\n",
    "#for i in jsonobj[i]:\n",
    "#    print jsonobj[i]{title}\n"
   ]
  },
  {
   "cell_type": "code",
   "execution_count": 2,
   "metadata": {},
   "outputs": [
    {
     "data": {
      "text/plain": [
       "'7/23辆'"
      ]
     },
     "execution_count": 2,
     "metadata": {},
     "output_type": "execute_result"
    }
   ],
   "source": [
    "jsonobj[0]['title']"
   ]
  },
  {
   "cell_type": "code",
   "execution_count": 3,
   "metadata": {
    "scrolled": true
   },
   "outputs": [
    {
     "data": {
      "text/plain": [
       "'车胎10/脚架11/车锁4/后刹车线1/；王岳川17628357304'"
      ]
     },
     "execution_count": 3,
     "metadata": {},
     "output_type": "execute_result"
    }
   ],
   "source": [
    "jsonobj[0]['attributes'][0]['value']"
   ]
  },
  {
   "cell_type": "code",
   "execution_count": 4,
   "metadata": {
    "scrolled": true
   },
   "outputs": [
    {
     "name": "stdout",
     "output_type": "stream",
     "text": [
      "7/23辆\n",
      "车胎10/脚架11/车锁4/后刹车线1/；王岳川17628357304\n",
      "5/11辆\n",
      "车胎3/脚架4/车锁3/前刹车线1；王岳川17628357304\n",
      "A/14辆\n",
      "2/10辆\n",
      "车胎6/脚架2/车锁3/王岳川17628357304\n",
      "1/73\n",
      "车胎40 脚架8 车锁20 左刹把6 右刹把5 后刹车线4 前刹车线5 左踏板3 右踏板2 座凳 3 无链条4 链盒螺钉3\n",
      "4/26辆\n",
      "脚架4/车锁6/轮胎13/快拆1/右踏板1/右刹车线1/右刹把1/王涛13882181465\n",
      "3/27辆\n",
      "右刹车线1/车胎12/车锁6/快拆1/脚架2/左刹车线2/右刹把1/左刹把1/王涛13882181465\n"
     ]
    }
   ],
   "source": [
    "#先遍历字典，每个循环中取相应的键值对\n",
    "for i in jsonobj:\n",
    "    print(i['title'])\n",
    "    for j in i['attributes']:\n",
    "        print(j['value'])"
   ]
  },
  {
   "cell_type": "markdown",
   "metadata": {},
   "source": [
    "##用正则表达式"
   ]
  },
  {
   "cell_type": "code",
   "execution_count": 28,
   "metadata": {},
   "outputs": [
    {
     "data": {
      "text/plain": [
       "b'[{\"id\":38477492,\"title\":\"1/12\\xe8\\xbe\\x86\",\"bdxy\":\"104.1138'"
      ]
     },
     "execution_count": 28,
     "metadata": {},
     "output_type": "execute_result"
    }
   ],
   "source": [
    "r.content[:50]"
   ]
  },
  {
   "cell_type": "code",
   "execution_count": null,
   "metadata": {},
   "outputs": [],
   "source": []
  }
 ],
 "metadata": {
  "hide_input": false,
  "kernelspec": {
   "display_name": "Python 3",
   "language": "python",
   "name": "python3"
  },
  "language_info": {
   "codemirror_mode": {
    "name": "ipython",
    "version": 3
   },
   "file_extension": ".py",
   "mimetype": "text/x-python",
   "name": "python",
   "nbconvert_exporter": "python",
   "pygments_lexer": "ipython3",
   "version": "3.7.0"
  },
  "toc": {
   "base_numbering": 1,
   "nav_menu": {},
   "number_sections": true,
   "sideBar": true,
   "skip_h1_title": false,
   "title_cell": "Table of Contents",
   "title_sidebar": "Contents",
   "toc_cell": false,
   "toc_position": {},
   "toc_section_display": true,
   "toc_window_display": false
  },
  "varInspector": {
   "cols": {
    "lenName": 16,
    "lenType": 16,
    "lenVar": 40
   },
   "kernels_config": {
    "python": {
     "delete_cmd_postfix": "",
     "delete_cmd_prefix": "del ",
     "library": "var_list.py",
     "varRefreshCmd": "print(var_dic_list())"
    },
    "r": {
     "delete_cmd_postfix": ") ",
     "delete_cmd_prefix": "rm(",
     "library": "var_list.r",
     "varRefreshCmd": "cat(var_dic_list()) "
    }
   },
   "types_to_exclude": [
    "module",
    "function",
    "builtin_function_or_method",
    "instance",
    "_Feature"
   ],
   "window_display": false
  }
 },
 "nbformat": 4,
 "nbformat_minor": 2
}
